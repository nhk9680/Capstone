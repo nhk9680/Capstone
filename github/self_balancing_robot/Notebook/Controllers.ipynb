{
 "cells": [
  {
   "cell_type": "markdown",
   "metadata": {},
   "source": [
    "### MD Muhaimin Rahman\n",
    "contact: sezan92@gmail.com\n"
   ]
  },
  {
   "cell_type": "markdown",
   "metadata": {},
   "source": [
    "# Introduction"
   ]
  },
  {
   "cell_type": "markdown",
   "metadata": {},
   "source": [
    "In this notebook, I am describing the implementation of Control Systems namely [PID](#pid_sec),[Fuzzy Logic](#fuzzy_sec) and [LQR](#lqr_sec) on our robot. The $pidcontrol.py$ file has been used for our project. I haven't written this library. I have downloaded from this github project.[1](#pid)"
   ]
  },
  {
   "cell_type": "markdown",
   "metadata": {},
   "source": [
    "#### Importing Libraris"
   ]
  },
  {
   "cell_type": "code",
   "execution_count": null,
   "metadata": {},
   "outputs": [],
   "source": [
    "import sys,time\n",
    "import pidcontrol as pid\n",
    "import rospy\n",
    "from geometry_msgs.msg import Twist\n",
    "from sensor_msgs.msg import Imu\n",
    "from std_msgs.msg import Float32"
   ]
  },
  {
   "cell_type": "markdown",
   "metadata": {},
   "source": [
    "Topic names"
   ]
  },
  {
   "cell_type": "code",
   "execution_count": null,
   "metadata": {},
   "outputs": [],
   "source": [
    "Yaw_Topic = \"/yaw\"\n",
    "cmd_vel = \"/cmd_vel\"\n",
    "Imu_topic = \"/imu\"\n",
    "Kp_topic = \"/Kp\"\n",
    "Ki_topic =\"/Ki\"\n",
    "Kd_topic = \"/Kd\"\n"
   ]
  },
  {
   "cell_type": "markdown",
   "metadata": {},
   "source": [
    "/yaw topic is used to publish the response value of the yaw angle of the robot\n",
    "/cmd_vel topic is used to move the robot. \n",
    "/imu topic gets the imu sensor data\n",
    "/Kp , /Ki and /Kd topics are used to tune the PID gains for the robot. The pid gains can be tuned using rqt_ez_publisher gui which is automatically launched with the whole project"
   ]
  },
  {
   "cell_type": "markdown",
   "metadata": {},
   "source": [
    "<a id = \"pid_sec\"></a>\n",
    "### PID"
   ]
  },
  {
   "cell_type": "markdown",
   "metadata": {},
   "source": [
    "The class below , \"SelfBalance\" does the main job. In this class, we see , one subscriber for cmd_vel topic which moves the robot. Also four subscriber functions. One subscriber function for accessing Imu values. The other subscriber functions to tune the PID gains . For PID controller function I have used a python code named $pidcontrol.py$ from the project at [1](#pid)"
   ]
  },
  {
   "cell_type": "code",
   "execution_count": null,
   "metadata": {},
   "outputs": [],
   "source": [
    "class SelfBalance:\n",
    "    def __init__(self):\n",
    "        self.pub = rospy.Publisher(cmd_vel,Twist,queue_size =1)\n",
    "        self.subscriber = rospy.Subscriber(Imu_topic,Imu,self.callback)\n",
    "        self.subscriber2 = rospy.Subscriber(Kp_topic,Float32,self.callback_Kp)\n",
    "        self.subscriber3 = rospy.Subscriber(Ki_topic,Float32,self.callback_Ki)\n",
    "        self.subscriber4 = rospy.Subscriber(Kd_topic,Float32,self.callback_Kd)\n",
    "        self.pub1 = rospy.Publisher(Yaw_Topic,Float32,queue_size =1)\n",
    "        self.xvelMin=-.01\n",
    "        self.xvelMax =0\n",
    "        self.yMin = -0.01\n",
    "        self.yMax = -0.001\n",
    "        self.yPrev =0\n",
    "        self.delY = 0\n",
    "        self.Kp = 25\n",
    "        self.Ki = 0.8\n",
    "        self.Kd = 0.1\n",
    "        self.pubx = pid.PID_Controller(self.Kp,self.Ki,self.Kd)\n",
    "    def callback(self,data):\n",
    "        setPoint = 0\n",
    "        y = data.orientation.y\n",
    "        self.delY = y-self.yPrev\n",
    "        if self.delY>self.yMax:\n",
    "            self.yMax = self.delY\n",
    "        elif self.delY<self.yMin:\n",
    "            self.yMin = self.delY\n",
    "        vel = Twist()\n",
    "        xvel = -self.pubx.getCorrection(setPoint,y)\n",
    "        if xvel>self.xvelMax:\n",
    "            self.xvelMax=xvel\n",
    "        elif xvel<self.xvelMin:\n",
    "            self.xvelMin = xvel\n",
    "        if xvel >26:\n",
    "            xvel =26\n",
    "        elif xvel<-26:\n",
    "            xvel =-26\n",
    "        vel.linear.x = xvel\n",
    "        vel.linear.y = 0\n",
    "        vel.linear.z = 0\n",
    "        vel.angular.x =0\n",
    "        vel.angular.y = 0\n",
    "        vel.angular.z = 0\n",
    "\n",
    "        self.pub.publish(vel)\n",
    "        self.yPrev = y\n",
    "        self.pub1.publish(y)\n",
    "        #print \"Max vel \" + str(self.xvelMax) + \" & Min vel \" + str(self.xvelMin) + \" Max delY \" + str(self.yMax*180/3.1416) +\" & Min delY\" + str(self.yMin*180/3.1416)\n",
    "    def callback_Kp(self,data):\n",
    "        self.Kp = data.data\n",
    "        self.pubx = pid.PID_Controller(self.Kp,self.Ki,self.Kd)\n",
    "    def callback_Ki(self,data):\n",
    "        self.Ki = data.data\n",
    "        self.pubx = pid.PID_Controller(self.Kp,self.Ki,self.Kd)\n",
    "    \n",
    "    def callback_Kd(self,data):\n",
    "        self.Kd = data.data\n",
    "        self.pubx = pid.PID_Controller(self.Kp,self.Ki,self.Kd)\n",
    "        "
   ]
  },
  {
   "cell_type": "markdown",
   "metadata": {},
   "source": [
    "Main Function"
   ]
  },
  {
   "cell_type": "code",
   "execution_count": null,
   "metadata": {},
   "outputs": [],
   "source": [
    "def main(args):\n",
    "    '''Initializes and cleanup ros node'''\n",
    "    rospy.init_node('SelfBalance', anonymous=True)\n",
    "    ic = SelfBalance()\n",
    "    \n",
    "    try:\n",
    "        rospy.spin()\n",
    "    except KeyboardInterrupt:\n",
    "        print \"Shutting down ROS \"\n",
    "    \n",
    "\n",
    "if __name__ == '__main__':\n",
    "    main(sys.argv)\n"
   ]
  },
  {
   "cell_type": "markdown",
   "metadata": {},
   "source": [
    "### Video"
   ]
  },
  {
   "cell_type": "markdown",
   "metadata": {},
   "source": [
    "[Youtube Link](https://youtu.be/kssD8unnWls)"
   ]
  },
  {
   "cell_type": "markdown",
   "metadata": {},
   "source": [
    "<a id =\"fuzzy_sec\"></a>\n",
    "## Fuzzy Logic Controller"
   ]
  },
  {
   "cell_type": "markdown",
   "metadata": {},
   "source": [
    "There are many things in common between the PID code and Fuzzy logic code for the robot, as expected. For fuzzy rule definition , I have written a seperate file namee $SelfBalancingFuzzyP.py$. Fuzzy logic can be of many types. For simplicity, I have shown Fuzzy P controller. I have used scikit-fuzzy library for our purpose.[[2](#fuzzy)] The codes are as following"
   ]
  },
  {
   "cell_type": "code",
   "execution_count": 5,
   "metadata": {},
   "outputs": [
    {
     "data": {
      "image/png": "[encoded data removed]",
      "text/plain": [
       "<matplotlib.figure.Figure at 0x7fc782337c90>"
      ]
     },
     "metadata": {},
     "output_type": "display_data"
    },
    {
     "data": {
      "image/png": "[encoded data removed]",
      "text/plain": [
       "<matplotlib.figure.Figure at 0x7fc78183cd90>"
      ]
     },
     "metadata": {},
     "output_type": "display_data"
    }
   ],
   "source": [
    "#!/usr/bin/env python2\n",
    "# -*- coding: utf-8 -*-\n",
    "\"\"\"\n",
    "Created on Thu Aug  3 15:22:37 2017\n",
    "\n",
    "@author: sezan92\n",
    "\"\"\"\n",
    "\n",
    "# In[1]\n",
    "import numpy as np\n",
    "import skfuzzy as fuzz\n",
    "from skfuzzy import control as ctrl\n",
    "\n",
    "# New Antecedent/Consequent objects hold universe variables and membership\n",
    "# functions\n",
    "yaw = ctrl.Antecedent(np.arange(-3,4,0.1), 'yaw')\n",
    "#yaw_=ctrl.Antecedent(np.arange(-1,1,0.4),'diff_yaw')\n",
    "velocity = ctrl.Consequent(np.arange(-50, 50, 1), 'velocity')\n",
    "\n",
    "# Auto-membership function population is possible with .automf(3, 5, or 7)\n",
    "yaw.automf(5)\n",
    "#yaw_.automf(5)\n",
    "# Custom membership functions can be built interactively with a familiar,\n",
    "# Pythonic API\n",
    "velocity['nl'] = fuzz.trimf(velocity.universe, [-50,-30,-15])\n",
    "velocity['ns'] = fuzz.trimf(velocity.universe, [-30, -15, 0])\n",
    "velocity['m'] = fuzz.trimf(velocity.universe, [-15,0,15])\n",
    "velocity['ps'] =fuzz.trimf(velocity.universe,[0,15,30])\n",
    "velocity['pl'] = fuzz.trimf(velocity.universe,[15,30,50])\n",
    "yaw.view()\n",
    "#yaw_.view()\n",
    "velocity.view()\n",
    "\n",
    "# In[2]\n",
    "#rule1 = ctrl.Rule(quality['poor'] | service['poor'], tip['low'])\n",
    "rule1 = ctrl.Rule(yaw['poor'],velocity['nl'])\n",
    "rule2 = ctrl.Rule(yaw['mediocre'] ,velocity['ns'])\n",
    "rule3 = ctrl.Rule(yaw['average'],velocity['m'])\n",
    "rule4 = ctrl.Rule(yaw['decent'],velocity['ps'])\n",
    "rule5 = ctrl.Rule(yaw['good'],velocity['pl'])\n",
    "\n",
    "#rule1.view()\n",
    "\n",
    "# In[3]\n",
    "velocity_ctrl = ctrl.ControlSystem([rule1, rule2, rule3,rule4,rule5])\n",
    "xvel1 = ctrl.ControlSystemSimulation(velocity_ctrl)"
   ]
  },
  {
   "cell_type": "markdown",
   "metadata": {},
   "source": [
    "The code for Fuzzy Logic implementation on the control system of the robot"
   ]
  },
  {
   "cell_type": "code",
   "execution_count": null,
   "metadata": {},
   "outputs": [],
   "source": [
    "class SelfBalanceFuzzy:\n",
    "    def __init__(self):\n",
    "        self.pub = rospy.Publisher(cmd_vel,Twist,queue_size =1)\n",
    "        self.subscriber = rospy.Subscriber(Imu_topic,Imu,self.callback)\n",
    "        self.pub1 = rospy.Publisher(Yaw_Topic,Float32,queue_size =1)\n",
    "        self.xvelMin=-.01\n",
    "        self.xvelMax =0\n",
    "        self.yMin = -0.01\n",
    "        self.yMax = 0\n",
    "        self.y_ = 0\n",
    "    def callback(self,data):\n",
    "        global counter\n",
    "        stamp = data.header.stamp\n",
    "        time = stamp.secs+stamp.nsecs*1e-9\n",
    "        setPoint = 0\n",
    "        y = data.orientation.y*180/3.1416\n",
    "        if y>self.yMax:\n",
    "            self.yMax = y\n",
    "        elif y<self.yMin:\n",
    "            self.yMin =y\n",
    "        vel = Twist()\n",
    "        velocity_ctrl = ctrl.ControlSystem([rule1, rule2, rule3,rule4,rule5])\n",
    "        xvel1 = ctrl.ControlSystemSimulation(velocity_ctrl)\n",
    "\n",
    "        xvel1.input['yaw']=(y-setPoint)\n",
    "        \n",
    "        xvel1.compute()\n",
    "        xvel = xvel1.output['velocity']\n",
    "        \n",
    "        \n",
    "        if xvel>self.xvelMax:\n",
    "            self.xvelMax=xvel\n",
    "        elif xvel<self.xvelMin:\n",
    "            self.xvelMin = xvel\n",
    "        vel.linear.x = xvel\n",
    "        vel.linear.y = 0\n",
    "        vel.linear.z = 0\n",
    "        vel.angular.x =0\n",
    "        vel.angular.y = 0\n",
    "        vel.angular.z = 0\n",
    "        self.pub.publish(vel)\n",
    "        #print \"Max vel \" + str(self.xvelMax) + \" & Min vel \" + str(self.xvelMin) + \" Max y \" + str(self.yMax*180/3.1416) +\" & Min y\" + str(self.yMin*180/3.1416)\n",
    "        print \"Velocity \"+ str(xvel)+ \" & yaw \" + str(y)\n",
    "        self.y_ = y\n",
    "        self.pub1.publish(data.orientation.y)\n",
    "'''        if counter%10==0:\n",
    "            plt.plot(y,time)\n",
    "            plt.axis('equal')\n",
    "            plt.draw()\n",
    "            plt.pause(0.0000001)\n",
    "        counter = counter+1'''\n",
    "\n",
    "def main(args):\n",
    "    '''Initializes and cleanup ros node'''\n",
    "    rospy.init_node('SelfBalance', anonymous=True)\n",
    "    ic = SelfBalanceFuzzy()\n",
    "    \n",
    "    try:\n",
    "        rospy.spin()\n",
    "    except KeyboardInterrupt:\n",
    "        print \"Shutting down ROS \"\n",
    "    "
   ]
  },
  {
   "cell_type": "markdown",
   "metadata": {},
   "source": [
    "### Video"
   ]
  },
  {
   "cell_type": "markdown",
   "metadata": {},
   "source": [
    "[Youtube Link](https://youtu.be/FoG59xl2c9I)"
   ]
  },
  {
   "cell_type": "markdown",
   "metadata": {},
   "source": [
    "\n",
    "# LQR Controller"
   ]
  },
  {
   "cell_type": "markdown",
   "metadata": {},
   "source": [
    "Here, I am working on LQR controller. I have used control library [[3](#PythonControl)] of python to work on lqr. For the lqr controllers, the state-space equations of the system are required. For the Inverted pendulum , the equation will be the following"
   ]
  },
  {
   "cell_type": "markdown",
   "metadata": {},
   "source": [
    "![system](LQR.png)"
   ]
  },
  {
   "cell_type": "markdown",
   "metadata": {},
   "source": [
    "The above equation is derived from [[4](#SystemEquation)] .Here, $m$ mass of the pendulum, $I$ is mass moment of Inertia , $M$ mass of Cart, $g$ gravitational acceleration, $\\phi$ yaw angle, $u$ is force and $x$ is the movement of the cart. we can simplify by writing , $\\dot{x} = Ax+Bu $, where A and B in our robot will be the following"
   ]
  },
  {
   "cell_type": "code",
   "execution_count": 6,
   "metadata": {},
   "outputs": [],
   "source": [
    "A = np.array([[0,1],[47.77,0]])\n",
    "B = np.array([[  0.  ],\n",
    "       [ 10.52]])"
   ]
  },
  {
   "cell_type": "markdown",
   "metadata": {},
   "source": [
    "From [[4](#SystemEquation)] , we get the cost function \\begin{equation}\n",
    "J = \\int (x^TQx +u^TRu)dt\n",
    "\\end{equation}\n"
   ]
  },
  {
   "cell_type": "markdown",
   "metadata": {},
   "source": [
    "Here, we need to tune Q matrix and R such that the value of $J$ is minimum."
   ]
  },
  {
   "cell_type": "markdown",
   "metadata": {},
   "source": [
    "Our topics for LQR"
   ]
  },
  {
   "cell_type": "code",
   "execution_count": 7,
   "metadata": {},
   "outputs": [],
   "source": [
    "cmd_vel = \"/cmd_vel\"\n",
    "Imu_topic = \"/imu\"\n",
    "Yaw_Topic = \"/yaw\"\n",
    "q_topic = \"/Q\"\n",
    "r_topic =\"/R\""
   ]
  },
  {
   "cell_type": "markdown",
   "metadata": {},
   "source": [
    "Here, we will tune the values of Q and R using /Q and /R topic respectively."
   ]
  },
  {
   "cell_type": "markdown",
   "metadata": {},
   "source": [
    "The class for LQR"
   ]
  },
  {
   "cell_type": "code",
   "execution_count": 8,
   "metadata": {},
   "outputs": [],
   "source": [
    "class SelfBalanceLQR:\n",
    "    def __init__(self):\n",
    "        self.pub = rospy.Publisher(cmd_vel,Twist,queue_size =1)\n",
    "        self.subscriber = rospy.Subscriber(Imu_topic,Imu,self.callback)\n",
    "        self.subscriber2 = rospy.Subscriber(q_topic,Float32,self.callback_q)\n",
    "        self.subscriber3= rospy.Subscriber(r_topic,Float32,self.callback_r)\n",
    "        self.pub1 = rospy.Publisher(Yaw_Topic,Float32,queue_size =1)\n",
    "        self.xvelMin=-.01\n",
    "        self.xvelMax =0\n",
    "        self.yMin = -0.01\n",
    "        self.yMax = 0\n",
    "        self.y_ = 0\n",
    "        self.Q = np.array([[ 100,   0],[  0, 1000]])\n",
    "        self.R = 0.0001\n",
    "        #xvel = xvel1.output['velocity']\n",
    "        self.K,self.S,self.e = lqr(A,B,self.Q,self.R)\n",
    "    def callback(self,data):\n",
    "        self.K,self.S,self.e = lqr(A,B,self.Q,self.R)\n",
    "        y = data.orientation.y*180/3.1416\n",
    "        if y>self.yMax:\n",
    "            self.yMax = y\n",
    "        elif y<self.yMin:\n",
    "            self.yMin =y\n",
    "        vel = Twist()\n",
    "        diff_yaw = y-self.y_\n",
    "        np_x = np.array([[y],[diff_yaw]])\n",
    "\n",
    "        xvel = self.K.dot(np_x)[0,0]\n",
    "       \n",
    "        if xvel>self.xvelMax:\n",
    "            self.xvelMax=xvel\n",
    "        elif xvel<self.xvelMin:\n",
    "            self.xvelMin = xvel\n",
    "        vel.linear.x = xvel\n",
    "        vel.linear.y = 0\n",
    "        vel.linear.z = 0\n",
    "        vel.angular.x =0\n",
    "        vel.angular.y = 0\n",
    "        vel.angular.z = 0\n",
    "        self.pub.publish(vel)\n",
    "        #print \"Max vel \" + str(self.xvelMax) + \" & Min vel \" + str(self.xvelMin) + \" Max y \" + str(self.yMax*180/3.1416) +\" & Min y\" + str(self.yMin*180/3.1416)\n",
    "        #print \"Velocity \"+ str(xvel)+ \" & yaw \" + str(y)\n",
    "        self.y_ = y\n",
    "        self.pub1.publish(data.orientation.y)\n",
    "    def callback_q(self,data):\n",
    "        q = data.data\n",
    "        self.Q = np.array([[ q,   0],[  0, 10*q]])\n",
    "        \n",
    "        \n",
    "    def callback_r(self,data):\n",
    "        r = data.data\n",
    "        self.R = r\n"
   ]
  },
  {
   "cell_type": "markdown",
   "metadata": {},
   "source": [
    "## Video"
   ]
  },
  {
   "cell_type": "markdown",
   "metadata": {},
   "source": [
    "[Youtube Link](https://youtu.be/QmrRNw043dY)"
   ]
  },
  {
   "cell_type": "markdown",
   "metadata": {},
   "source": [
    "## Conclusion"
   ]
  },
  {
   "cell_type": "markdown",
   "metadata": {},
   "source": [
    "In this project , I have tested three famous controllers on Self Balancing Robot Simulation. I am planning to work on other controllers as well, like Fuzzy PID, Adaptive Fuzzy, Neural Network, Sliding motion controller etc. I also intend to work on other control system problems as well. Control System is fun! Please contact me for any confusions or bugs. \n",
    "\n",
    "#### MD Muhaimin Rahman\n"
   ]
  },
  {
   "cell_type": "markdown",
   "metadata": {},
   "source": [
    "# Reference"
   ]
  },
  {
   "cell_type": "markdown",
   "metadata": {},
   "source": [
    "<a id =\"pid\"></a>\n",
    "[1] PyQuadSim [Repository](https://github.com/simondlevy/PyQuadSim/blob/master/pidcontrol.py)\n",
    "<br/>\n",
    "<a id =\"fuzzy\"></a>\n",
    "[2] Scikit-fuzzy DOI link 10.5281/zenodo.1002946\n",
    "<br/>\n",
    "<a id =\"PythonControl\"></a>\n",
    "[3] Python Control Package , [link](https://python-control.readthedocs.io/en/latest/)\n",
    "<br/>\n",
    "<a id =\"SystemEquation\"></a>\n",
    "[4] Control System Tutorials , [link](http://ctms.engin.umich.edu/CTMS/index.php?example=InvertedPendulum&section=SystemModeling)"
   ]
  },
  {
   "cell_type": "code",
   "execution_count": null,
   "metadata": {},
   "outputs": [],
   "source": []
  }
 ],
 "metadata": {
  "kernelspec": {
   "display_name": "Python 2",
   "language": "python",
   "name": "python2"
  },
  "language_info": {
   "codemirror_mode": {
    "name": "ipython",
    "version": 2
   },
   "file_extension": ".py",
   "mimetype": "text/x-python",
   "name": "python",
   "nbconvert_exporter": "python",
   "pygments_lexer": "ipython2",
   "version": "2.7.6"
  }
 },
 "nbformat": 4,
 "nbformat_minor": 2
}
