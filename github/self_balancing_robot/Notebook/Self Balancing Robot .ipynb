{
 "cells": [
  {
   "cell_type": "markdown",
   "metadata": {},
   "source": [
    "MD Muhaimin Rahman "
   ]
  },
  {
   "cell_type": "markdown",
   "metadata": {},
   "source": [
    "Freelance Robotics and Computer Vision Engineer at Upwork . \n",
    "Contact: sezan92@gmail.com "
   ]
  },
  {
   "cell_type": "markdown",
   "metadata": {},
   "source": [
    "# Introduction\n"
   ]
  },
  {
   "cell_type": "markdown",
   "metadata": {},
   "source": [
    "In this tutorial , I am going to build a Self Balancing RobotUrdf from Scratch in Gazebo. Self Balancing robots are one of the most fascinating Applications of Inverted Pendulum theory. [Click Here](https://en.wikipedia.org/wiki/Inverted_pendulum) to learn about them. This tutorial assumes that the reader has basic knowledge about ROS nodes,topics,publishing , subscribing,actions, services. If not , I advise to checkout these [videos](https://www.youtube.com/watch?v=xgLETnSMMYA) ."
   ]
  },
  {
   "cell_type": "markdown",
   "metadata": {},
   "source": [
    "### Let's start with the model file named robot3.urdf.xacro\n",
    "[ Located at urdf folder]"
   ]
  },
  {
   "cell_type": "markdown",
   "metadata": {},
   "source": [
    "<?xml version = \"1.0\" ?>\n",
    "<robot name = \"Self_Balancing_Robot\" xmlns:xacro =\"http://ros.org/wiki/xacro\" >\n",
    ".....\n",
    "</robot>"
   ]
  },
  {
   "cell_type": "markdown",
   "metadata": {},
   "source": [
    "In the above code, it is saying that, the file is actually written in xml language. The <robot> tag is showing that whatever is inside of it, is the description of the robot. I think the name is self explanatory. As for xmlns:xacro, I won't explain it write now.. Please bear with me in this tutorial ;)\n",
    "\n"
   ]
  },
  {
   "cell_type": "markdown",
   "metadata": {},
   "source": [
    "    <link name = \"Chassis\">\n",
    "\t\t<inertial>\n",
    "\t\t\t<origin xyz = \"0.0375 0 0\" rpy = \"0 0 0\" />\n",
    "\t\t\t<mass value = \"0.388\"/>\n",
    "\t\t\t<inertia ixx =\"0.0113\" iyy=\".01094\" izz=\".00971\" ixy=\"0\" ixz =\"0\" iyz = \"0\"/>\n",
    "\t\t</inertial>\n",
    "\t\t<collision>\n",
    "\t\t\t<geometry>\n",
    "\t\t\t\t<box size = \"0.075 0.175 0.157\" /> <!-- 0.075 0.175 0.157 -->\n",
    "\t\t\t\t \n",
    "\t\t\t</geometry>\n",
    "\t\t\t<origin xyz = \"0 0 0\" rpy = \"0 0 0\"/>\n",
    "\t\t\t\n",
    "\t\t</collision>\n",
    "\t\t<visual>\n",
    "\t\t\t<xacro:Chassis_Mesh />\n",
    "\t\t\t\n",
    "\t\t\n",
    "\t\t\t\n",
    "\n",
    "\t\t</visual>\n",
    "\t</link>"
   ]
  },
  {
   "cell_type": "markdown",
   "metadata": {},
   "source": [
    "link tag is the building block of a Robot model . Every part of the robot you want to work with, is defined as Links. It has three elements , inertial, collision, visual\n",
    "\n",
    "- inertial element describes the inertia like Center of mass, mass, mass moment of inertia. The origin tag inside inertial is the co ordinates of Center of Mass of the link i.e. Chassis. \n",
    "\n",
    "- collision is the element which defines how the robot should act in the simulation world. Like a Box , Sphere or Cylinder ? Or Like a mesh file you will describe ? In the above codes , we have said it will behave like a box of size 0.075x0.175x0.157 meter cube . The origin tag below the geometry tag specifies the co-ordinates of the link w.r.t Gazebo Frame of Reference. \n",
    "- visual This tag referes to how will you see in the simulation. You can copy the entire Collision code here. But wait ! There's a xacro tag ! What is it  ??\n"
   ]
  },
  {
   "cell_type": "markdown",
   "metadata": {},
   "source": [
    "# Xacro"
   ]
  },
  {
   "cell_type": "markdown",
   "metadata": {},
   "source": [
    "Xacro is what made the whole code smaller than before! It is like a function of c++ code. In the beginning of the file robot3.urdf.xacro you'll see some lines like "
   ]
  },
  {
   "cell_type": "markdown",
   "metadata": {},
   "source": [
    "    <xacro:macro name = \"Chassis1\" >\n",
    "\t\t\t<geometry>\n",
    "\t\t\t\t<box size = \"0.075 0.175 0.157\" /> <!-- 0.075 0.175 0.157 -->\n",
    "\t\t\t\t \n",
    "\t\t\t</geometry>\n",
    "\t</xacro:macro>"
   ]
  },
  {
   "cell_type": "markdown",
   "metadata": {},
   "source": [
    "It defines a functionish code for this model , which tells the Gazebo server that whenever we will call xacro:Chassis1 it will work like the lines of code inside of it. So the above codeblock can be written, as following"
   ]
  },
  {
   "cell_type": "markdown",
   "metadata": {},
   "source": [
    "    `<link name = \"Chassis\">\n",
    "\t\t<inertial>\n",
    "\t\t\t<origin xyz = \"0.0375 0 0\" rpy = \"0 0 0\" />\n",
    "\t\t\t<mass value = \"0.388\"/>\n",
    "\t\t\t<inertia ixx =\"0.0113\" iyy=\".01094\" izz=\".00971\" ixy=\"0\" ixz =\"0\" iyz = \"0\"/>\n",
    "\t\t</inertial>\n",
    "\t\t<collision>\n",
    "\t\t\t<xacro:Chassis1 /><!--\n",
    "\t\t\t<origin rpy = \"0 0 0\" xyz =\"0 0 0.1101\"/> -->\n",
    "\t\t\t<xacro:Chassis_origin /> \n",
    "\t\t\t\n",
    "\t\t</collision>\n",
    "\t\t<visual>\n",
    "\t\t\t<xacro:Chassis_Mesh />\n",
    "\t\t\t\n",
    "\t\t\n",
    "\t\t\t\n",
    "\n",
    "\t\t</visual>\n",
    "\t</link>"
   ]
  },
  {
   "cell_type": "markdown",
   "metadata": {},
   "source": [
    "## Joint \n"
   ]
  },
  {
   "cell_type": "markdown",
   "metadata": {},
   "source": [
    "Joint Tag is something which joins a link to another link . There are several types of joints. \n",
    "\n",
    "- Fixed . It defines the joint as unmoveable.\n",
    "- Revolute. It says that the link can rotate upto certain limit\n",
    "- Continuous . It says that the link can rotate without any limit\n",
    "- Prismatic. It says the link can move along one axis. \n",
    "- Floating . It says that the link can rotate in 6  axes of Freedom.\n",
    "- Let's look at two types of joints defined in the file."
   ]
  },
  {
   "cell_type": "markdown",
   "metadata": {},
   "source": [
    "    <joint name=\"base_link_joint\" type=\"fixed\">\n",
    "\t\t<origin xyz = \"0 0 0.001\" rpy = \"0 0 0\" />\n",
    "\t\t<parent link=\"base_footprint\"/>\n",
    "\t\t<child link=\"Chassis\" />\n",
    "\t\n",
    "\t</joint> "
   ]
  },
  {
   "cell_type": "markdown",
   "metadata": {},
   "source": [
    "- parent link is the boss of the joint :D child should explain himself\n",
    "- origin is the co ordinates of the joint with respect to parent's frame of reference. (Told you, he is the boss)\n",
    "- type = \"fixed\" means , the chassis will be fixed with the base_footprint"
   ]
  },
  {
   "cell_type": "markdown",
   "metadata": {},
   "source": [
    "\t<joint name =\"Right_wheel_Joint\" type = \"continuous\">\n",
    "\t\t<parent link = \"base_footprint\"/>\n",
    "\t\t<child link = \"Right_Wheel\"/>\n",
    "\t\t<origin xyz = \"-0.0135 0.0875 -0.0785\" rpy =\"0 0 0.0\"/>\n",
    "\t\t<limit effort=\"100000\" velocity=\"100000\"/>\n",
    "        <axis xyz=\"0 1 0\"/>\n",
    "\t</joint>"
   ]
  },
  {
   "cell_type": "markdown",
   "metadata": {},
   "source": [
    "### Quiz \n",
    "- What type of joint?\n",
    "- Which link is the boss ?\n",
    "- Origin of Joint ? "
   ]
  },
  {
   "cell_type": "markdown",
   "metadata": {},
   "source": [
    "Here you'll see two new tags named limit and axis. \n",
    "- limit defines the limit of upper rotation, lower rotation (both in radians), maximum force , maximum velocity of a joint\n",
    "- Here we don't need to set limit for the joint rotations. So I haven't specified. otherwise it would be \n",
    "    limit lower= \"0\" upper = \"1.57\" ...\n",
    "- the effort is for maximum force or torque in N or Nm respectively\n",
    "- So what is velocity specifying ? Any guess ? \n"
   ]
  },
  {
   "cell_type": "markdown",
   "metadata": {},
   "source": [
    "## Plugin\n"
   ]
  },
  {
   "cell_type": "markdown",
   "metadata": {},
   "source": [
    "Plugin is the link between this model and your ROS code. It says the simulation world what how the model should behave whenever you run the code. At the end of the model xacro file you'll notice a plugin like the following\n"
   ]
  },
  {
   "cell_type": "markdown",
   "metadata": {},
   "source": [
    " <gazebo> \n",
    "    \t<plugin name=\"differential_drive_controller\" filename=\"libgazebo_ros_diff_drive.so\">\n",
    "      \t<legacyMode>false</legacyMode>\n",
    "      \t<alwaysOn>true</alwaysOn>\n",
    "      \t<updateRate>10</updateRate>\n",
    "      \t<leftJoint>Left_wheel_Joint</leftJoint>\n",
    "      \t<rightJoint>Right_wheel_Joint</rightJoint>\n",
    "      \t<wheelSeparation>0.175</wheelSeparation>\n",
    "      \t<wheelDiameter>0.0632</wheelDiameter>\n",
    "      \t<torque>10</torque>\n",
    "      \t<commandTopic>cmd_vel</commandTopic>\n",
    "      \t<odometryTopic>odom</odometryTopic>\n",
    "      \t<odometryFrame>odom</odometryFrame>\n",
    "      \t<robotBaseFrame>base_footprint</robotBaseFrame>\n",
    "\n",
    "    </plugin>\n",
    "  </gazebo>\n"
   ]
  },
  {
   "cell_type": "markdown",
   "metadata": {},
   "source": [
    "As it's name suggests, it makes the robot Baseframe move like [Differential Drive](https://en.wikipedia.org/wiki/Differential_wheeled_robot) Movement. The leftJoint and RightJoint are to specified as Left wheel and Right Wheel of the robot. The commandTopic is the real Key. The name inside the topic defines the topic for the movement of the robot. Whatever message published in this topic . For more information please visit [This link](http://wiki.ros.org/geometry_msgs).\n",
    "\n",
    "## Quiz \n",
    "- Can you say the tasks of other tags in the above gazebo plugin ? "
   ]
  },
  {
   "cell_type": "markdown",
   "metadata": {},
   "source": [
    "# Homework\n",
    "Please try to open the xacro file and Answer the following questions. If you can't answer , relax! It's not an exam. Google them :) "
   ]
  },
  {
   "cell_type": "markdown",
   "metadata": {},
   "source": [
    "- What are the functions of other joints and links \n",
    "- What is the function of this tag  \"xacro:Chassis_Mesh\" ? \n",
    "- What is Mesh file ? \n",
    "- What are the functions of other two plugins ? \n"
   ]
  },
  {
   "cell_type": "markdown",
   "metadata": {},
   "source": [
    "I am planning to expand this notebook in future. Please let me know if you have any other question so that I can know what more confuision you have. Please feel free to contact via email  at sezan92[at]gmail.com"
   ]
  },
  {
   "cell_type": "markdown",
   "metadata": {
    "collapsed": true
   },
   "source": [
    "# Conclusion "
   ]
  },
  {
   "cell_type": "markdown",
   "metadata": {},
   "source": [
    "In this notebook I have tried to explain how to build a self balancing robot urdf from scratch. In other codes I have tried to explain how to use Control theories namely famous, PID, Fuzzy Logic and LQR controllers. For any confusion please dont hesitate to contact me ."
   ]
  },
  {
   "cell_type": "code",
   "execution_count": null,
   "metadata": {},
   "outputs": [],
   "source": []
  }
 ],
 "metadata": {
  "kernelspec": {
   "display_name": "Python 2",
   "language": "python",
   "name": "python2"
  },
  "language_info": {
   "codemirror_mode": {
    "name": "ipython",
    "version": 2
   },
   "file_extension": ".py",
   "mimetype": "text/x-python",
   "name": "python",
   "nbconvert_exporter": "python",
   "pygments_lexer": "ipython2",
   "version": "2.7.6"
  }
 },
 "nbformat": 4,
 "nbformat_minor": 2
}
